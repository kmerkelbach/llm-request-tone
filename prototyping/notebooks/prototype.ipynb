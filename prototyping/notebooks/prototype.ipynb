{
 "cells": [
  {
   "cell_type": "markdown",
   "id": "66828417-33bb-44ce-9b83-342a5cda4ae9",
   "metadata": {},
   "source": [
    "# Prototype: LLM Tone Analysis"
   ]
  },
  {
   "cell_type": "markdown",
   "id": "c73c8c81-1a2c-4a20-b5c2-2c5d51bc6a71",
   "metadata": {},
   "source": [
    "## Imports"
   ]
  },
  {
   "cell_type": "code",
   "execution_count": 8,
   "id": "039d70c6-3b91-496d-ab9f-3bbfc107f953",
   "metadata": {},
   "outputs": [],
   "source": [
    "# Util\n",
    "import os\n",
    "import json\n",
    "import shlex\n",
    "import subprocess\n",
    "from loguru import logger\n",
    "from pprint import pprint\n",
    "\n",
    "# AI\n",
    "from lm_eval import evaluator\n",
    "from datasets import Dataset, load_dataset"
   ]
  },
  {
   "cell_type": "markdown",
   "id": "69065d5f-dd6d-45b8-9875-b937db9d0045",
   "metadata": {},
   "source": [
    "## Benchmark"
   ]
  },
  {
   "cell_type": "code",
   "execution_count": null,
   "id": "2031b31f-bfa8-46f9-beb2-8398f30fb719",
   "metadata": {},
   "outputs": [],
   "source": [
    "mmlu_pro = \"TIGER-Lab/MMLU-Pro\""
   ]
  },
  {
   "cell_type": "code",
   "execution_count": null,
   "id": "c56ab44c-9db5-4f7b-9f04-a5f5072728d9",
   "metadata": {},
   "outputs": [],
   "source": [
    "d = load_dataset(mmlu_pro)"
   ]
  },
  {
   "cell_type": "code",
   "execution_count": null,
   "id": "e8a3bd43-eea2-40d6-8074-b0bf73c22faf",
   "metadata": {},
   "outputs": [],
   "source": [
    "d[\"validation\"][60]"
   ]
  }
 ],
 "metadata": {
  "kernelspec": {
   "display_name": "llm-tone",
   "language": "python",
   "name": "llm-tone"
  },
  "language_info": {
   "codemirror_mode": {
    "name": "ipython",
    "version": 3
   },
   "file_extension": ".py",
   "mimetype": "text/x-python",
   "name": "python",
   "nbconvert_exporter": "python",
   "pygments_lexer": "ipython3",
   "version": "3.12.5"
  }
 },
 "nbformat": 4,
 "nbformat_minor": 5
}
