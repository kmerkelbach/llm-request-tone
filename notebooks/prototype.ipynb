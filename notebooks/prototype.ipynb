{
 "cells": [
  {
   "cell_type": "markdown",
   "id": "66828417-33bb-44ce-9b83-342a5cda4ae9",
   "metadata": {},
   "source": [
    "# Prototype: LLM Tone Analysis"
   ]
  },
  {
   "cell_type": "markdown",
   "id": "c73c8c81-1a2c-4a20-b5c2-2c5d51bc6a71",
   "metadata": {},
   "source": [
    "## Imports"
   ]
  },
  {
   "cell_type": "code",
   "execution_count": 14,
   "id": "039d70c6-3b91-496d-ab9f-3bbfc107f953",
   "metadata": {},
   "outputs": [],
   "source": [
    "# Util\n",
    "import os\n",
    "from loguru import logger\n",
    "\n",
    "# AI\n",
    "from datasets import Dataset, load_dataset\n",
    "from openai import OpenAI"
   ]
  },
  {
   "cell_type": "markdown",
   "id": "69065d5f-dd6d-45b8-9875-b937db9d0045",
   "metadata": {},
   "source": [
    "## Benchmark"
   ]
  },
  {
   "cell_type": "code",
   "execution_count": 3,
   "id": "2031b31f-bfa8-46f9-beb2-8398f30fb719",
   "metadata": {},
   "outputs": [],
   "source": [
    "mmlu_pro = \"TIGER-Lab/MMLU-Pro\""
   ]
  },
  {
   "cell_type": "code",
   "execution_count": 4,
   "id": "c56ab44c-9db5-4f7b-9f04-a5f5072728d9",
   "metadata": {},
   "outputs": [
    {
     "data": {
      "application/vnd.jupyter.widget-view+json": {
       "model_id": "c9b010816acc4d038623d8ba60b63bb5",
       "version_major": 2,
       "version_minor": 0
      },
      "text/plain": [
       "README.md: 0.00B [00:00, ?B/s]"
      ]
     },
     "metadata": {},
     "output_type": "display_data"
    },
    {
     "data": {
      "application/vnd.jupyter.widget-view+json": {
       "model_id": "d23d5695e3fe41e08641a235e2f0544e",
       "version_major": 2,
       "version_minor": 0
      },
      "text/plain": [
       "test-00000-of-00001.parquet:   0%|          | 0.00/4.16M [00:00<?, ?B/s]"
      ]
     },
     "metadata": {},
     "output_type": "display_data"
    },
    {
     "data": {
      "application/vnd.jupyter.widget-view+json": {
       "model_id": "622524d88b0749bdae21b00b73afac24",
       "version_major": 2,
       "version_minor": 0
      },
      "text/plain": [
       "validation-00000-of-00001.parquet:   0%|          | 0.00/45.3k [00:00<?, ?B/s]"
      ]
     },
     "metadata": {},
     "output_type": "display_data"
    },
    {
     "data": {
      "application/vnd.jupyter.widget-view+json": {
       "model_id": "b87eadc0a8d04be79f55ccd508429f56",
       "version_major": 2,
       "version_minor": 0
      },
      "text/plain": [
       "Generating test split:   0%|          | 0/12032 [00:00<?, ? examples/s]"
      ]
     },
     "metadata": {},
     "output_type": "display_data"
    },
    {
     "data": {
      "application/vnd.jupyter.widget-view+json": {
       "model_id": "88e841350caf4451b019a3734c6e03e3",
       "version_major": 2,
       "version_minor": 0
      },
      "text/plain": [
       "Generating validation split:   0%|          | 0/70 [00:00<?, ? examples/s]"
      ]
     },
     "metadata": {},
     "output_type": "display_data"
    }
   ],
   "source": [
    "d = load_dataset(mmlu_pro)"
   ]
  },
  {
   "cell_type": "code",
   "execution_count": 11,
   "id": "e8a3bd43-eea2-40d6-8074-b0bf73c22faf",
   "metadata": {},
   "outputs": [
    {
     "data": {
      "text/plain": [
       "{'question_id': 60,\n",
       " 'question': 'Pascale is interested in the processing strategies children use to learn new information. Pascale would best be classified as what type of psychologist?',\n",
       " 'options': ['social',\n",
       "  'school',\n",
       "  'sociocultural',\n",
       "  'forensic',\n",
       "  'behaviorist',\n",
       "  'health',\n",
       "  'clinical',\n",
       "  'cognitive',\n",
       "  'psychoanalytic',\n",
       "  'developmental'],\n",
       " 'answer': 'H',\n",
       " 'answer_index': 7,\n",
       " 'cot_content': \"A: Let's think step by step. We refer to Wikipedia articles on psychology for help. Sociocultural psychologist focuses on the effect of societal factors on people. Clinical psychologist focuses on people with mental issues. Cognitive psychologist focuses on how people think and learn, including the processing strategies. Behaviorist focuses more on the environment and experience effect on people. The answer is (H).\",\n",
       " 'category': 'psychology',\n",
       " 'src': 'cot_lib-high_school_psychology'}"
      ]
     },
     "execution_count": 11,
     "metadata": {},
     "output_type": "execute_result"
    }
   ],
   "source": [
    "d[\"validation\"][60]"
   ]
  },
  {
   "cell_type": "markdown",
   "id": "3258e096-e9b7-47fd-98f9-42ea39f6c3ec",
   "metadata": {},
   "source": [
    "## LLM"
   ]
  },
  {
   "cell_type": "code",
   "execution_count": 27,
   "id": "43c50dbd-2f59-48c5-a8ce-411a60992a9f",
   "metadata": {},
   "outputs": [],
   "source": [
    "# Set up firworks API\n",
    "fireworks_client = OpenAI(\n",
    "    api_key=os.environ.get(\"FIREWORKS_API_KEY\"),\n",
    "    base_url=os.environ.get(\"FIREWORKS_API_BASE\")\n",
    ")"
   ]
  },
  {
   "cell_type": "code",
   "execution_count": 41,
   "id": "d2713126-b1f0-4e29-958d-57eab743e83a",
   "metadata": {},
   "outputs": [],
   "source": [
    "def call_llm(message: str, model: str = \"accounts/fireworks/models/qwen3-30b-a3b-thinking-2507\") -> str:\n",
    "    # Call API\n",
    "    response = client.chat.completions.create(\n",
    "        messages=[\n",
    "            {\n",
    "                \"role\": \"user\",\n",
    "                \"content\": message,\n",
    "            }\n",
    "        ],\n",
    "        model=model\n",
    "    )\n",
    "\n",
    "    # Extract response\n",
    "    resp = response.choices[0].message.content\n",
    "    return resp"
   ]
  },
  {
   "cell_type": "code",
   "execution_count": 47,
   "id": "54a374ff-0709-498a-a4d2-e980993a1bc7",
   "metadata": {},
   "outputs": [
    {
     "name": "stdout",
     "output_type": "stream",
     "text": [
      "Okay, the user is asking about Pascale's classification as a psychologist based on her interest in children's information processing strategies. Let me start by recalling the main branches of psychology. There's clinical, social, developmental, cognitive, etc.\n",
      "\n",
      "Pascale is focusing on how children learn new information. The key here is \"processing strategies\" and \"children.\" Processing strategies usually relate to cognitive processes like attention, memory, problem-solving. So cognitive psychology comes to mind. But then it's specifically about children, which points to developmental psychology. \n",
      "\n",
      "Wait, developmental psychology examines how people grow and change over time, including cognitive development. But cognitive psychology is more about the mental processes themselves, regardless of age. However, since Pascale is studying children, it's a subset. I remember that cognitive development is a major area within developmental psychology. Piaget and Vygotsky are key figures there, studying how kids think and learn.\n",
      "\n",
      "So Pascale's interest in children's strategies for learning would fall under developmental psychology, specifically cognitive development. But sometimes people get confused between cognitive and developmental. Let me double-check. If she was studying adults' learning strategies, it'd be cognitive psychology. But since it's children, it's developmental. The question says \"children use to learn,\" so age-specific aspect makes it developmental. \n",
      "\n",
      "Wait, but cognitive development is a subfield of developmental psychology. So the best classification would be developmental psychologist. The user might be confused between cognitive and developmental, so I should clarify that. Also, making sure other options like educational wouldn't fit because that's applied, not the theoretical branch. Clinical is about mental health, social involves group interactions. So developmental is correct. \n",
      "\n",
      "The user might need a clear distinction to avoid confusion. Maybe they're studying for an exam and need precise terminology. Confirming that the core of her interest is the developmental aspect (children's growth) with the method being cognitive strategies, hence developmental psychology.\n",
      "</think>\n",
      "\n",
      "Pascale would best be classified as a **developmental psychologist**.\n",
      "\n",
      "Here's why:\n",
      "\n",
      "1.  **Focus on Children:** Her interest is specifically in *children* as the subject group. Developmental psychology is the branch of psychology dedicated to studying how and why people change across the lifespan, with a major focus on childhood development.\n",
      "2.  **Focus on Cognitive Processes (Learning/Processing Strategies):** While the *type* of information (learning strategies) falls under **cognitive psychology**, the *context* (children) places it squarely within **developmental psychology**.\n",
      "    *   *Cognitive psychology* broadly studies mental processes (attention, memory, thinking, problem-solving) in *all* individuals, regardless of age.\n",
      "    *   **Developmental psychology** specifically investigates how these cognitive processes *change and develop* as children grow from infancy through adolescence. Studying *how children learn* using specific *processing strategies* is a core question within developmental psychology (cognitive development).\n",
      "\n",
      "**Why not the other options?**\n",
      "\n",
      "*   **Cognitive Psychologist:** While she studies cognitive processes (learning strategies), the specific focus on *children* is the key identifier for developmental psychology. A cognitive psychologist studying adults' learning strategies would be classified differently. The child element makes developmental the more precise classification.\n",
      "*   **Educational Psychologist:** This branch applies psychological principles to educational settings and learning. While Pascale's work *could* inform educational practice, her stated interest is in the *processing strategies themselves* within children, which is a fundamental developmental psychology question, not necessarily focused on the *educational context* or *intervention*.\n",
      "*   **Social Psychologist:** This field studies how people's thoughts, feelings, and behaviors are influenced by the actual, imagined, or implied presence of others. Pascale's focus is on individual information processing strategies, not social influence.\n",
      "*   **Clinical Psychologist:** This branch focuses on the assessment, diagnosis, and treatment of mental, emotional, and behavioral disorders. Pascale's interest is in normal learning processes, not pathology.\n",
      "\n",
      "**Conclusion:**\n",
      "\n",
      "Pascale's research on *children's strategies for learning new information* directly addresses how cognitive abilities develop over time. This is the core domain of **developmental psychology**, specifically its subfield of **cognitive development**. Therefore, she is best classified as a **developmental psychologist**.\n"
     ]
    }
   ],
   "source": [
    "print(call_llm(d[\"validation\"][60][\"question\"]))"
   ]
  }
 ],
 "metadata": {
  "kernelspec": {
   "display_name": "llm-tone",
   "language": "python",
   "name": "llm-tone"
  },
  "language_info": {
   "codemirror_mode": {
    "name": "ipython",
    "version": 3
   },
   "file_extension": ".py",
   "mimetype": "text/x-python",
   "name": "python",
   "nbconvert_exporter": "python",
   "pygments_lexer": "ipython3",
   "version": "3.12.5"
  }
 },
 "nbformat": 4,
 "nbformat_minor": 5
}
